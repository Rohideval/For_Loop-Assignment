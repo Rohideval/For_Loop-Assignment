{
 "cells": [
  {
   "cell_type": "markdown",
   "id": "23d6a656-e5f0-4282-832f-e5883b42329e",
   "metadata": {},
   "source": [
    " #  Basic Level:\n"
   ]
  },
  {
   "cell_type": "markdown",
   "id": "56887c09-21bc-40fe-b936-c76990c78fe4",
   "metadata": {},
   "source": [
    " 1. Write a Python program to print the numbers from 1 to 10 using a `for` loop.\n"
   ]
  },
  {
   "cell_type": "code",
   "execution_count": 2,
   "id": "e79b2674-b9b2-4813-badf-d88dfccc946f",
   "metadata": {},
   "outputs": [
    {
     "name": "stdout",
     "output_type": "stream",
     "text": [
      "1 2 3 4 5 6 7 8 9 10 "
     ]
    }
   ],
   "source": [
    "for i in range(1,11):\n",
    "    print(i,end=' ')"
   ]
  },
  {
   "cell_type": "markdown",
   "id": "6320c70f-cdbd-4897-b557-8fa54a15e7f5",
   "metadata": {},
   "source": [
    " 2. Create a program that calculates the sum of all numbers in a list using a `for` loop.\n"
   ]
  },
  {
   "cell_type": "code",
   "execution_count": 3,
   "id": "095aa155-95a0-4442-9947-d98dfac7ae89",
   "metadata": {},
   "outputs": [
    {
     "name": "stdout",
     "output_type": "stream",
     "text": [
      "45\n"
     ]
    }
   ],
   "source": [
    "l=[1,2,3,4,5,6,7,8,9]\n",
    "total=0\n",
    "for num in l:\n",
    "    total+=num\n",
    "print(total)"
   ]
  },
  {
   "cell_type": "markdown",
   "id": "8bcd0200-eaa7-4469-b5f7-6085eb8eb502",
   "metadata": {},
   "source": [
    " 3. Write a program to print the characters of a string in reverse order using a `for` loop.\n"
   ]
  },
  {
   "cell_type": "code",
   "execution_count": 5,
   "id": "ed5cc316-88fb-4a9a-b401-6683d399da0c",
   "metadata": {},
   "outputs": [
    {
     "name": "stdout",
     "output_type": "stream",
     "text": [
      "987654321"
     ]
    }
   ],
   "source": [
    "str1=\"123456789\"\n",
    "for i in str1[::-1]:\n",
    "    print(i,end='')"
   ]
  },
  {
   "cell_type": "markdown",
   "id": "6e68292e-a60e-4327-9b53-51b3d6965387",
   "metadata": {},
   "source": [
    " 4. Develop a program that finds the factorial of a given number using a `for` loop.\n"
   ]
  },
  {
   "cell_type": "code",
   "execution_count": 8,
   "id": "05062323-77c7-44a0-bafd-ccda647a336f",
   "metadata": {},
   "outputs": [],
   "source": [
    "def fact(n):\n",
    "    fact=1\n",
    "    for i in range(1,n+1):\n",
    "        fact*=i\n",
    "    print(fact)"
   ]
  },
  {
   "cell_type": "code",
   "execution_count": 9,
   "id": "aac71d0b-a29f-4d1e-b933-06b46091f704",
   "metadata": {},
   "outputs": [
    {
     "name": "stdout",
     "output_type": "stream",
     "text": [
      "120\n"
     ]
    }
   ],
   "source": [
    "fact(5)"
   ]
  },
  {
   "cell_type": "markdown",
   "id": "b331e28e-8d2c-40f9-8b9e-da01982f2727",
   "metadata": {},
   "source": [
    " 5. Create a program to print the multiplication table of a given number using a `for` loop.\n"
   ]
  },
  {
   "cell_type": "code",
   "execution_count": 12,
   "id": "ba1a9dfd-fedb-430e-95d2-62e7474ebbee",
   "metadata": {},
   "outputs": [],
   "source": [
    "def table(n):\n",
    "    for num in range(1,11):\n",
    "        print(n,'*',num,'=',n*num)"
   ]
  },
  {
   "cell_type": "code",
   "execution_count": 13,
   "id": "61bfbbf1-befe-4a9c-b048-59e3f1886346",
   "metadata": {},
   "outputs": [
    {
     "name": "stdout",
     "output_type": "stream",
     "text": [
      "2 * 1 = 2\n",
      "2 * 2 = 4\n",
      "2 * 3 = 6\n",
      "2 * 4 = 8\n",
      "2 * 5 = 10\n",
      "2 * 6 = 12\n",
      "2 * 7 = 14\n",
      "2 * 8 = 16\n",
      "2 * 9 = 18\n",
      "2 * 10 = 20\n"
     ]
    }
   ],
   "source": [
    "table(2)"
   ]
  },
  {
   "cell_type": "markdown",
   "id": "67bcef0e-7e11-4908-a909-6900a4c8fba2",
   "metadata": {},
   "source": [
    " 6. Write a program that counts the number of even and odd numbers in a list using a `for` loop.\n"
   ]
  },
  {
   "cell_type": "code",
   "execution_count": 16,
   "id": "c73eb3fc-07d5-4b88-9ae9-e9ac87a071bb",
   "metadata": {},
   "outputs": [],
   "source": [
    "def count_odd_even(l):\n",
    "    odd=0\n",
    "    even=0\n",
    "    for i in l:\n",
    "        if i%2==0:\n",
    "            even+=1\n",
    "        else:\n",
    "            odd+=1\n",
    "    print(f\"Total count of odd:{odd} and even:{even}\")"
   ]
  },
  {
   "cell_type": "code",
   "execution_count": 17,
   "id": "f34b770b-8869-4de2-9ced-08cc29f14e9c",
   "metadata": {},
   "outputs": [
    {
     "name": "stdout",
     "output_type": "stream",
     "text": [
      "Total count of odd:5 and even:5\n"
     ]
    }
   ],
   "source": [
    "l=[1,2,3,4,5,6,7,8,9,0]\n",
    "count_odd_even(l)"
   ]
  },
  {
   "cell_type": "markdown",
   "id": "b078a866-4642-4fe7-b37f-5bd828289786",
   "metadata": {},
   "source": [
    " 7. Develop a program that prints the squares of numbers from 1 to 5 using a `for` loop.\n"
   ]
  },
  {
   "cell_type": "code",
   "execution_count": 20,
   "id": "5acc1407-858f-43da-9ad3-8c1bc43074e7",
   "metadata": {},
   "outputs": [
    {
     "name": "stdout",
     "output_type": "stream",
     "text": [
      "1 square 1\n",
      "2 square 4\n",
      "3 square 9\n",
      "4 square 16\n",
      "5 square 25\n"
     ]
    }
   ],
   "source": [
    "for i in range(1,6):\n",
    "    print(i,'square',i**2)"
   ]
  },
  {
   "cell_type": "markdown",
   "id": "29c666b5-35e0-46cc-b6f5-6326269ad069",
   "metadata": {},
   "source": [
    " 8. Create a program to find the length of a string without using the `len()` function.\n"
   ]
  },
  {
   "cell_type": "code",
   "execution_count": 21,
   "id": "2772b924-cc7f-466f-ae79-689c682fde1c",
   "metadata": {},
   "outputs": [
    {
     "name": "stdout",
     "output_type": "stream",
     "text": [
      "Length of string: 6\n"
     ]
    }
   ],
   "source": [
    "str1=\"123456\"\n",
    "length=0\n",
    "for i in str1:\n",
    "    length+=1\n",
    "print(\"Length of string:\",length)"
   ]
  },
  {
   "cell_type": "markdown",
   "id": "8603c094-fcb7-4c92-82a3-4c561d96e63e",
   "metadata": {},
   "source": [
    " 9. Write a program that calculates the average of a list of numbers using a `for` loop.\n"
   ]
  },
  {
   "cell_type": "code",
   "execution_count": 24,
   "id": "7db9d11d-df43-479d-abe2-dc20a3b8fb07",
   "metadata": {},
   "outputs": [
    {
     "name": "stdout",
     "output_type": "stream",
     "text": [
      "Average of given list is: 3.0\n"
     ]
    }
   ],
   "source": [
    "a=[1,2,3,4,5]\n",
    "total=0\n",
    "for i in a:\n",
    "    total+=i\n",
    "print(\"Average of given list is:\",total/len(a))"
   ]
  },
  {
   "cell_type": "markdown",
   "id": "060014ed-78f1-4506-bb3d-6f0c1bbf75c8",
   "metadata": {},
   "source": [
    " 10. Develop a program that prints the first `n` Fibonacci numbers using a `for` loop.\n"
   ]
  },
  {
   "cell_type": "code",
   "execution_count": 31,
   "id": "ac37060a-f5c0-4389-8e91-33cb6ae7f857",
   "metadata": {},
   "outputs": [],
   "source": [
    "def fibo(n):\n",
    "    a=0\n",
    "    b=1\n",
    "    nextfib=b\n",
    "    for i in range(0,n):\n",
    "        if i<=1:\n",
    "            print(i)\n",
    "        else:\n",
    "            print(nextfib)\n",
    "            a,b=b,nextfib\n",
    "            nextfib=a+b"
   ]
  },
  {
   "cell_type": "code",
   "execution_count": 33,
   "id": "499d27b7-402d-46a8-a6c7-ea7791ecb3de",
   "metadata": {},
   "outputs": [
    {
     "name": "stdout",
     "output_type": "stream",
     "text": [
      "0\n",
      "1\n",
      "1\n",
      "2\n",
      "3\n",
      "5\n",
      "8\n",
      "13\n",
      "21\n",
      "34\n"
     ]
    }
   ],
   "source": [
    "fibo(10)"
   ]
  },
  {
   "cell_type": "markdown",
   "id": "9ba5b6f7-7c2c-4586-b99d-881ef7ab3a2f",
   "metadata": {},
   "source": [
    "#  Intermediate Level:\n"
   ]
  },
  {
   "cell_type": "markdown",
   "id": "b8e2b8c1-f82f-4056-a197-bb5ed220e0f9",
   "metadata": {},
   "source": [
    " 11. Write a program to check if a given list contains any duplicates using a `for` loop.\n"
   ]
  },
  {
   "cell_type": "code",
   "execution_count": 36,
   "id": "70b93b90-e27e-4ae3-b71e-3bdd60ec0dfa",
   "metadata": {},
   "outputs": [
    {
     "name": "stdout",
     "output_type": "stream",
     "text": [
      "Yes there is duplicate: [1, 5]\n"
     ]
    }
   ],
   "source": [
    "l=[1,2,3,4,5,1,5]\n",
    "a=1\n",
    "duplicate=[]\n",
    "for i in l:\n",
    "    if i in l[a:]:\n",
    "        duplicate.append(i)\n",
    "    a+=1\n",
    "if duplicate:\n",
    "    print(\"Yes there is duplicate:\",duplicate)\n",
    "else:\n",
    "    print(\"No there is no duplicate:\")"
   ]
  },
  {
   "cell_type": "markdown",
   "id": "ecd66e69-5b01-47e4-bebb-0f33906d8b28",
   "metadata": {},
   "source": [
    " 12. Create a program that prints the prime numbers in a given range using a `for` loop.\n"
   ]
  },
  {
   "cell_type": "code",
   "execution_count": 57,
   "id": "212d8058-3601-4dd2-a2f9-5e551fb6e547",
   "metadata": {},
   "outputs": [],
   "source": [
    "def get_prime(n):\n",
    "    list1=[]\n",
    "    list2=list(range(2,n+1))\n",
    "    prime=[]\n",
    "    for i in range(2,n+1):\n",
    "        for j in range(2,n+1):\n",
    "            if j<i and i%j==0:\n",
    "                list1.append(i)\n",
    "    for i in list2:\n",
    "        if i not in list1:\n",
    "            prime.append(i)\n",
    "    print(prime)"
   ]
  },
  {
   "cell_type": "code",
   "execution_count": 58,
   "id": "f3a50422-f8cd-4243-ae73-393eb3bbfa3e",
   "metadata": {},
   "outputs": [
    {
     "name": "stdout",
     "output_type": "stream",
     "text": [
      "[2, 3, 5, 7]\n"
     ]
    }
   ],
   "source": [
    "get_prime(10)"
   ]
  },
  {
   "cell_type": "markdown",
   "id": "6c89c37d-e4ed-46b6-a23f-b562b907119c",
   "metadata": {},
   "source": [
    " 13. Develop a program that counts the number of vowels in a string using a `for` loop.\n"
   ]
  },
  {
   "cell_type": "code",
   "execution_count": 45,
   "id": "75fba93e-f4f6-4ee0-a68c-adf7a2b86830",
   "metadata": {},
   "outputs": [],
   "source": [
    "def vowel_counter(string):\n",
    "    vowel=\"a,e,i,o,u\"\n",
    "    count=0\n",
    "    for i in string.lower():\n",
    "        if i in vowel:\n",
    "            count+=1\n",
    "    print(\"Count of vowel:\", count)"
   ]
  },
  {
   "cell_type": "code",
   "execution_count": 46,
   "id": "ef6ab535-66bc-438b-ab26-aea3a24359ea",
   "metadata": {},
   "outputs": [
    {
     "name": "stdout",
     "output_type": "stream",
     "text": [
      "Count of vowel: 4\n"
     ]
    }
   ],
   "source": [
    "vowel_counter(\"Hello friend\")"
   ]
  },
  {
   "cell_type": "markdown",
   "id": "18a1193f-f85f-4eab-b650-a4b3750984c5",
   "metadata": {},
   "source": [
    " 14. Write a program to find the maximum element in a 2D list using a nested `for` loop.\n"
   ]
  },
  {
   "cell_type": "code",
   "execution_count": 8,
   "id": "0c9aeea7-634e-430f-8591-923417d21af7",
   "metadata": {},
   "outputs": [],
   "source": [
    "two_d_list=[[2,1,4],[2,4,5,6],[7,2,1,9]]\n",
    "def find_max(two_d):\n",
    "    list1=[]\n",
    "    for i in two_d:\n",
    "        for j in i:\n",
    "            list1.append(j)\n",
    "    print(\"maximum element in 2d list is:\", max(list1))"
   ]
  },
  {
   "cell_type": "code",
   "execution_count": 9,
   "id": "a56275b7-36f6-446c-beac-cda4dcbe00f4",
   "metadata": {},
   "outputs": [
    {
     "name": "stdout",
     "output_type": "stream",
     "text": [
      "maximum element in 2d list is: 9\n"
     ]
    }
   ],
   "source": [
    "find_max(two_d_list)"
   ]
  },
  {
   "cell_type": "markdown",
   "id": "915c2330-eeba-4f4a-9a29-164099ed2dd7",
   "metadata": {},
   "source": [
    " 15. Create a program that removes all occurrences of a specific element from a list using a `for` loop.\n"
   ]
  },
  {
   "cell_type": "code",
   "execution_count": 61,
   "id": "bb86dbc0-0107-4f10-a75a-eecfd4821fde",
   "metadata": {},
   "outputs": [],
   "source": [
    "def remove_element(l,element):\n",
    "    modified_list=[]\n",
    "    for i in l:\n",
    "        if i==element:\n",
    "            continue\n",
    "        else:\n",
    "            modified_list.append(i)\n",
    "    return modified_list"
   ]
  },
  {
   "cell_type": "code",
   "execution_count": 62,
   "id": "586195ce-46eb-4451-b422-172d7ac3e153",
   "metadata": {},
   "outputs": [
    {
     "data": {
      "text/plain": [
       "[2, 3, 4, 5, 62, 2]"
      ]
     },
     "execution_count": 62,
     "metadata": {},
     "output_type": "execute_result"
    }
   ],
   "source": [
    "l=[1,2,3,4,5,62,1,2,1,1]\n",
    "remove_element(l,1)"
   ]
  },
  {
   "cell_type": "markdown",
   "id": "a29f852c-feae-4d65-af2b-82941b2c3e9d",
   "metadata": {},
   "source": [
    " 16. Develop a program that generates a multiplication table for numbers from 1 to 5 using a nested `for` loop.\n"
   ]
  },
  {
   "cell_type": "code",
   "execution_count": 67,
   "id": "52c79751-9dcc-43b8-a334-2c4c10718055",
   "metadata": {},
   "outputs": [
    {
     "name": "stdout",
     "output_type": "stream",
     "text": [
      "-----Table of 1 -----\n",
      "1 * 1 = 1\n",
      "1 * 2 = 2\n",
      "1 * 3 = 3\n",
      "1 * 4 = 4\n",
      "1 * 5 = 5\n",
      "1 * 6 = 6\n",
      "1 * 7 = 7\n",
      "1 * 8 = 8\n",
      "1 * 9 = 9\n",
      "1 * 10 = 10\n",
      "-----Table of 2 -----\n",
      "2 * 1 = 2\n",
      "2 * 2 = 4\n",
      "2 * 3 = 6\n",
      "2 * 4 = 8\n",
      "2 * 5 = 10\n",
      "2 * 6 = 12\n",
      "2 * 7 = 14\n",
      "2 * 8 = 16\n",
      "2 * 9 = 18\n",
      "2 * 10 = 20\n",
      "-----Table of 3 -----\n",
      "3 * 1 = 3\n",
      "3 * 2 = 6\n",
      "3 * 3 = 9\n",
      "3 * 4 = 12\n",
      "3 * 5 = 15\n",
      "3 * 6 = 18\n",
      "3 * 7 = 21\n",
      "3 * 8 = 24\n",
      "3 * 9 = 27\n",
      "3 * 10 = 30\n",
      "-----Table of 4 -----\n",
      "4 * 1 = 4\n",
      "4 * 2 = 8\n",
      "4 * 3 = 12\n",
      "4 * 4 = 16\n",
      "4 * 5 = 20\n",
      "4 * 6 = 24\n",
      "4 * 7 = 28\n",
      "4 * 8 = 32\n",
      "4 * 9 = 36\n",
      "4 * 10 = 40\n",
      "-----Table of 5 -----\n",
      "5 * 1 = 5\n",
      "5 * 2 = 10\n",
      "5 * 3 = 15\n",
      "5 * 4 = 20\n",
      "5 * 5 = 25\n",
      "5 * 6 = 30\n",
      "5 * 7 = 35\n",
      "5 * 8 = 40\n",
      "5 * 9 = 45\n",
      "5 * 10 = 50\n"
     ]
    }
   ],
   "source": [
    "for i in range(1,6):\n",
    "    print('-----Table of',i,'-----')\n",
    "    for j in range(1,11):\n",
    "        print(i,'*',j,'=',i*j)\n",
    "        "
   ]
  },
  {
   "cell_type": "markdown",
   "id": "f7772d39-970b-41b8-bc72-ba3661947340",
   "metadata": {},
   "source": [
    " 17. Write a program that converts a list of Fahrenheit temperatures to Celsius using a `for` loop.\n"
   ]
  },
  {
   "cell_type": "code",
   "execution_count": 73,
   "id": "5e8f9c90-a269-4e9c-9574-8f1cc9d1d959",
   "metadata": {},
   "outputs": [
    {
     "name": "stdout",
     "output_type": "stream",
     "text": [
      "Fahrenheit 40 = 4.444444444444445  is Celsius.\n",
      "Fahrenheit 45 = 7.222222222222222  is Celsius.\n",
      "Fahrenheit 60 = 15.555555555555555  is Celsius.\n",
      "Fahrenheit 55 = 12.777777777777779  is Celsius.\n"
     ]
    }
   ],
   "source": [
    "Fahrenheit_temperatures= [40,45,60,55]\n",
    "for i in Fahrenheit_temperatures:\n",
    "    print(\"Fahrenheit\",i,'=',(i-32)*5/9,\" is Celsius.\")"
   ]
  },
  {
   "cell_type": "markdown",
   "id": "5668eec2-9cfd-4c9f-9784-c71ebfc1d8e2",
   "metadata": {},
   "source": [
    " 18. Create a program to print the common elements from two lists using a `for` loop.\n"
   ]
  },
  {
   "cell_type": "code",
   "execution_count": 76,
   "id": "edcc8f18-5d2a-450c-afe9-2b67ddba13b9",
   "metadata": {},
   "outputs": [],
   "source": [
    "def common_elements(l1,l2):\n",
    "    common=[]\n",
    "    for i in l1:\n",
    "        if i in l2:\n",
    "            common.append(i)\n",
    "    print (\"Common elements are:\",common)"
   ]
  },
  {
   "cell_type": "code",
   "execution_count": 77,
   "id": "4138c25c-e74d-46a4-baa1-70b20540e53e",
   "metadata": {},
   "outputs": [
    {
     "name": "stdout",
     "output_type": "stream",
     "text": [
      "Common elements are: [3, 4, 5]\n"
     ]
    }
   ],
   "source": [
    "l1=[1,2,3,4,5]\n",
    "l2=[3,4,5,6,7,8]\n",
    "common_elements(l1,l2)"
   ]
  },
  {
   "cell_type": "markdown",
   "id": "8f255416-441c-42fe-b2a1-2893e4dc1a79",
   "metadata": {},
   "source": [
    "\n",
    " 19. Develop a program that prints the pattern of right-angled triangles using a `for` loop. Use ‘*’ to draw the pattern\n"
   ]
  },
  {
   "cell_type": "code",
   "execution_count": 78,
   "id": "b0b267ba-66c2-4760-808f-12af10313e84",
   "metadata": {},
   "outputs": [
    {
     "name": "stdout",
     "output_type": "stream",
     "text": [
      "*\n",
      "**\n",
      "***\n",
      "****\n",
      "*****\n",
      "******\n",
      "*******\n",
      "********\n",
      "*********\n",
      "**********\n"
     ]
    }
   ],
   "source": [
    "for i in range(1,11):\n",
    "    print(i*'*')"
   ]
  },
  {
   "cell_type": "markdown",
   "id": "7fd9e06e-e56d-4f16-bc5c-9eb970c7644d",
   "metadata": {},
   "source": [
    " 20. Write a program to find the greatest common divisor (GCD) of two numbers using a `for` loop.\n"
   ]
  },
  {
   "cell_type": "code",
   "execution_count": 14,
   "id": "f94eb56b-f32f-4534-b642-6e5b9798f554",
   "metadata": {},
   "outputs": [],
   "source": [
    "a=20\n",
    "b=40\n",
    "def find_gcd(a,b):\n",
    "    common_divisor=[]\n",
    "    for i in range(2,a+b):\n",
    "        if a%i==0 and b%i==0:\n",
    "            common_divisor.append(i)\n",
    "    print(\"The greatest common divisor is:\",max(common_divisor))"
   ]
  },
  {
   "cell_type": "code",
   "execution_count": 15,
   "id": "8214a9bc-6b5f-4126-8b75-956dfcda88b5",
   "metadata": {},
   "outputs": [
    {
     "name": "stdout",
     "output_type": "stream",
     "text": [
      "The greatest common divisor is: 20\n"
     ]
    }
   ],
   "source": [
    "find_gcd(a,b)"
   ]
  },
  {
   "cell_type": "markdown",
   "id": "19e04c48-7fb3-4da5-b5c2-16239d7699a5",
   "metadata": {},
   "source": [
    "# Advanced Level:\n"
   ]
  },
  {
   "cell_type": "markdown",
   "id": "11a76ece-6480-4b41-991d-0707ef498758",
   "metadata": {},
   "source": [
    " 21. Create a program that calculates the sum of the digits of numbers in a list using a list comprehension.\n"
   ]
  },
  {
   "cell_type": "code",
   "execution_count": 69,
   "id": "2b7d859a-38b4-4ca5-a523-a8441b15e241",
   "metadata": {},
   "outputs": [
    {
     "name": "stdout",
     "output_type": "stream",
     "text": [
      "sum of digit  is: 17\n"
     ]
    }
   ],
   "source": [
    "a=[1234,2,32]\n",
    "sumof=sum([int(i) for i in str(a) if i.isdigit()])\n",
    "print(\"sum of digit  is:\",sumof)"
   ]
  },
  {
   "cell_type": "markdown",
   "id": "838a12f9-87d9-4ddd-976c-0c51eefd342b",
   "metadata": {},
   "source": [
    " 22. Write a program to find the prime factors of a given number using a `for` loop and list comprehension.\n"
   ]
  },
  {
   "cell_type": "code",
   "execution_count": 21,
   "id": "54143c59-bfc8-413d-9f51-e9fdd57ce15f",
   "metadata": {},
   "outputs": [],
   "source": [
    "def get_primefactor(n):\n",
    "    factor=[i for i in range(2,n+1) if n%i==0]\n",
    "    list1=[]\n",
    "    list2=list(range(2,n+1))\n",
    "    prime=[]\n",
    "    for i in factor:\n",
    "        for j in list2:\n",
    "            if j<i and i%j==0:\n",
    "                list1.append(i)\n",
    "    for i in factor:\n",
    "        if i not in list1:\n",
    "            prime.append(i)\n",
    "    print(\"Prime Factor of given number is:\", prime)"
   ]
  },
  {
   "cell_type": "code",
   "execution_count": 22,
   "id": "079bd53a-01e3-48f1-9057-77667b10dc38",
   "metadata": {},
   "outputs": [
    {
     "name": "stdout",
     "output_type": "stream",
     "text": [
      "Prime Factor of given number is: [7]\n"
     ]
    }
   ],
   "source": [
    "get_primefactor(49)"
   ]
  },
  {
   "cell_type": "markdown",
   "id": "892bf218-8f6b-4ecb-9c02-8a304471c888",
   "metadata": {},
   "source": [
    "23. Develop a program that extracts unique elements from a list and stores them in a new list using a list comprehension."
   ]
  },
  {
   "cell_type": "code",
   "execution_count": 28,
   "id": "c3de0cbe-88b6-4402-8fff-19422b5ee34a",
   "metadata": {},
   "outputs": [
    {
     "name": "stdout",
     "output_type": "stream",
     "text": [
      "Unique list: [1, 2, 3, 4, 5, 'R', 'o']\n"
     ]
    }
   ],
   "source": [
    "list2=[1,2,4,5,3,2,1,'R','o','R']\n",
    "Unique=list({i for i in list2})\n",
    "print(\"Unique list:\", Unique)"
   ]
  },
  {
   "cell_type": "markdown",
   "id": "50598138-e950-4ba3-a5f5-a2a51234e9e9",
   "metadata": {},
   "source": [
    "24. Create a program that generates a list of all palindromic numbers up to a specified limit using a list comprehension."
   ]
  },
  {
   "cell_type": "code",
   "execution_count": 39,
   "id": "57b54a81-3d2f-4bf8-b766-11ab39bef46f",
   "metadata": {},
   "outputs": [],
   "source": [
    "def palindromic_numbers(limit):\n",
    "    print(\"Palindromic Numbers:\", [i for i in range(limit) if str(i)==str(i)[::-1]])"
   ]
  },
  {
   "cell_type": "code",
   "execution_count": 40,
   "id": "fd7ad9b9-83b7-4c92-a048-b07cc015ef34",
   "metadata": {},
   "outputs": [
    {
     "name": "stdout",
     "output_type": "stream",
     "text": [
      "Palindromic Numbers: [0, 1, 2, 3, 4, 5, 6, 7, 8, 9, 11, 22, 33, 44, 55, 66, 77, 88, 99]\n"
     ]
    }
   ],
   "source": [
    "palindromic_numbers(100)"
   ]
  },
  {
   "cell_type": "markdown",
   "id": "722e4624-6ded-46fc-b609-3895ab83fe0c",
   "metadata": {},
   "source": [
    " 25. Write a program to flatten a nested list using list comprehension.\n"
   ]
  },
  {
   "cell_type": "code",
   "execution_count": 43,
   "id": "e456d95c-8b51-4fb6-8e02-ecccfcd566c2",
   "metadata": {},
   "outputs": [
    {
     "name": "stdout",
     "output_type": "stream",
     "text": [
      "[1, 2, 3, 4, 5, 6, 2, 6, 7, 8]\n"
     ]
    }
   ],
   "source": [
    "nested_list=[[1,2,3],[4,5,6],[2,6,7,8]]\n",
    "flatten_list=[j for i in nested_list for j in i]\n",
    "print(flatten_list)"
   ]
  },
  {
   "cell_type": "markdown",
   "id": "c3547792-f20f-457b-94a7-89a835129e74",
   "metadata": {},
   "source": [
    "26. Develop a program that computes the sum of even and odd numbers in a list separately using list \n",
    "comprehension."
   ]
  },
  {
   "cell_type": "code",
   "execution_count": 128,
   "id": "0d849f76-4153-42fe-8e27-e09a1c752b83",
   "metadata": {},
   "outputs": [
    {
     "name": "stdout",
     "output_type": "stream",
     "text": [
      "Sum of even numbers: 56\n",
      "Sum of odd numbers: 64\n"
     ]
    }
   ],
   "source": [
    "num=[1,2,3,4,5,6,7,8,9,10,11,12,13,14,15]\n",
    "\n",
    "sum_of_even=sum([i for i in num if i%2==0])\n",
    "sum_of_odd=sum([i for i in num if i%2!=0])\n",
    "\n",
    "print(\"Sum of even numbers:\", sum_of_even)\n",
    "print(\"Sum of odd numbers:\", sum_of_odd)"
   ]
  },
  {
   "cell_type": "markdown",
   "id": "28549390-245b-4db2-8c31-1573e686f554",
   "metadata": {},
   "source": [
    "27. Create a program that generates a list of squares of odd numbers between 1 and 10 using list \n",
    "comprehension."
   ]
  },
  {
   "cell_type": "code",
   "execution_count": 136,
   "id": "0aeca7f5-31ba-41d7-a112-a4a8d078d977",
   "metadata": {},
   "outputs": [
    {
     "name": "stdout",
     "output_type": "stream",
     "text": [
      "[1, 4, 9, 16, 25, 36, 49, 64, 81, 100]\n"
     ]
    }
   ],
   "source": [
    "square_list=[i*i for i in range(1,11)]\n",
    "print(square_list)"
   ]
  },
  {
   "cell_type": "markdown",
   "id": "453bc216-4a7c-4c86-8b9c-3a091a1d41bf",
   "metadata": {},
   "source": [
    "28. Write a program that combines two lists into a dictionary using list comprehension.\n",
    " "
   ]
  },
  {
   "cell_type": "code",
   "execution_count": 140,
   "id": "c3a66c95-4592-4dc9-a91a-1dcd5868c035",
   "metadata": {},
   "outputs": [],
   "source": [
    "list1=['Rohit','Hepsi',\"uday\",\"kajal\"]\n",
    "list2=[1,2,3,4]\n",
    "\n",
    "combine_dict={list1[i]:list2[i] for i in range(len(list1))}"
   ]
  },
  {
   "cell_type": "code",
   "execution_count": 141,
   "id": "94d83b61-3919-4cba-a858-280edd015e3f",
   "metadata": {},
   "outputs": [
    {
     "data": {
      "text/plain": [
       "{'Rohit': 1, 'Hepsi': 2, 'uday': 3, 'kajal': 4}"
      ]
     },
     "execution_count": 141,
     "metadata": {},
     "output_type": "execute_result"
    }
   ],
   "source": [
    "combine_dict"
   ]
  },
  {
   "cell_type": "markdown",
   "id": "361c9afc-1818-4c4b-8a74-0f98d45d06ba",
   "metadata": {},
   "source": [
    " 29. Develop a program that extracts the vowels from a string and stores them in a list using list comprehension.\n"
   ]
  },
  {
   "cell_type": "code",
   "execution_count": 142,
   "id": "ef3baeb6-2474-4d71-8755-511d42b8337c",
   "metadata": {},
   "outputs": [],
   "source": [
    "def extract_vowel(string):\n",
    "    vowel=\"aeiouAEIOU\"\n",
    "    extracted_vowel=[i for i in string if i in vowel]\n",
    "    return extracted_vowel"
   ]
  },
  {
   "cell_type": "code",
   "execution_count": 145,
   "id": "d0c493ca-2098-4853-8e5e-e1c491c14c58",
   "metadata": {},
   "outputs": [
    {
     "name": "stdout",
     "output_type": "stream",
     "text": [
      "Vowel in given string is: ['a', 'e', 'i', 'o', 'i', 'e', 'a']\n"
     ]
    }
   ],
   "source": [
    "string=\"My name is Rohit Deval\"\n",
    "list1=extract_vowel(string)\n",
    "print(\"Vowel in given string is:\",list1)"
   ]
  },
  {
   "cell_type": "markdown",
   "id": "313e8bd9-f48b-47ee-a2ca-2dede1acb336",
   "metadata": {},
   "source": [
    " 30. Create a program that removes all non-numeric characters from a list of strings using list comprehension."
   ]
  },
  {
   "cell_type": "code",
   "execution_count": 152,
   "id": "92420c68-d0ee-44c5-9b24-18f9cef816aa",
   "metadata": {},
   "outputs": [
    {
     "name": "stdout",
     "output_type": "stream",
     "text": [
      "After removing non-numeric elements: [1, 2, 3, 4, 3]\n"
     ]
    }
   ],
   "source": [
    "list3=[\"a\",'b','c',1,2,3,4,'e','r',3]\n",
    "updated_list=[i for i in list3 if type(i)==int]\n",
    "print(\"After removing non-numeric elements:\",updated_list)"
   ]
  },
  {
   "cell_type": "markdown",
   "id": "a807527c-43b8-437d-9744-7855cb68f492",
   "metadata": {},
   "source": [
    " # Challenge Level:"
   ]
  },
  {
   "cell_type": "markdown",
   "id": "5edf3267-ece6-49f9-8099-1f424874e5bb",
   "metadata": {},
   "source": [
    "31. Write a program to generate a list of prime numbers using the Sieve of Eratosthenes algorithm and list \n",
    "comprehension"
   ]
  },
  {
   "cell_type": "code",
   "execution_count": 167,
   "id": "d2073688-a666-4384-bfe1-78573cf46cea",
   "metadata": {},
   "outputs": [
    {
     "name": "stdout",
     "output_type": "stream",
     "text": [
      "Prime numbers up to 30: [2, 3, 5, 7, 11, 13, 17, 19, 23, 29]\n"
     ]
    }
   ],
   "source": [
    "def sieve_of_eratosthenes(n):\n",
    "    primes = [True] * (n + 1)\n",
    "    primes[0] = primes[1] = False\n",
    "    p = 2\n",
    "    while p * p <= n:\n",
    "        if primes[p]:\n",
    "            for i in range(p * p, n + 1, p):\n",
    "                primes[i] = False\n",
    "        p += 1\n",
    "    return [i for i, prime in enumerate(primes) if prime]\n",
    "\n",
    "n = 30\n",
    "print(f\"Prime numbers up to {n}: {sieve_of_eratosthenes(n)}\")"
   ]
  },
  {
   "cell_type": "markdown",
   "id": "77824ba3-2a02-4904-90b7-664f4e10af39",
   "metadata": {},
   "source": [
    "32. Create a program that generates a list of all Pythagorean triplets up to a specified limit using list \n",
    "comprehension"
   ]
  },
  {
   "cell_type": "code",
   "execution_count": 173,
   "id": "4bd38884-5b3c-4a64-bc7e-17fd16ee1ec4",
   "metadata": {},
   "outputs": [
    {
     "name": "stdin",
     "output_type": "stream",
     "text": [
      "please enter a limit for triplets 10\n"
     ]
    },
    {
     "name": "stdout",
     "output_type": "stream",
     "text": [
      "Pythagorean triplets : [(3, 4, 5)]\n"
     ]
    }
   ],
   "source": [
    "limit=int(input(\"please enter a limit for triplets\"))\n",
    "pythagorean_triplet= [(a, b, c) for a in range(1, limit) for b in range(a, limit) for c in range(b, limit) if a**2 + b**2 == c**2]\n",
    "print(\"Pythagorean triplets :\",pythagorean_triplet)"
   ]
  },
  {
   "cell_type": "markdown",
   "id": "c181aff2-fc15-42a6-9350-4d78d034c0e2",
   "metadata": {},
   "source": [
    "33. Develop a program that generates a list of all possible combinations of two lists using list comprehension."
   ]
  },
  {
   "cell_type": "code",
   "execution_count": 174,
   "id": "455e87bf-b99f-4ad1-a872-3a562468023e",
   "metadata": {},
   "outputs": [],
   "source": [
    "list1=[1,2,3,4,5]\n",
    "list2=[6,7,8,9,0]\n",
    "combination_of_list=[(x,y) for x in list1 for y in list2]"
   ]
  },
  {
   "cell_type": "code",
   "execution_count": 175,
   "id": "b83f5673-6ea5-425a-a8af-b965bce5330e",
   "metadata": {},
   "outputs": [
    {
     "name": "stdout",
     "output_type": "stream",
     "text": [
      "[(1, 6), (1, 7), (1, 8), (1, 9), (1, 0), (2, 6), (2, 7), (2, 8), (2, 9), (2, 0), (3, 6), (3, 7), (3, 8), (3, 9), (3, 0), (4, 6), (4, 7), (4, 8), (4, 9), (4, 0), (5, 6), (5, 7), (5, 8), (5, 9), (5, 0)]\n"
     ]
    }
   ],
   "source": [
    "print(combination_of_list)"
   ]
  },
  {
   "cell_type": "markdown",
   "id": "0ffec131-32ca-4cad-bfaf-963057ee7ab1",
   "metadata": {},
   "source": [
    "34. Write a program that calculates the mean, median, and mode of a list of numbers using list \n",
    "comprehension."
   ]
  },
  {
   "cell_type": "code",
   "execution_count": 219,
   "id": "01abb6c1-9dae-4421-8789-5355b4599186",
   "metadata": {},
   "outputs": [
    {
     "name": "stdout",
     "output_type": "stream",
     "text": [
      "Mean = 4.625\n",
      "Median= 4.5\n",
      "Mode= [7]\n"
     ]
    }
   ],
   "source": [
    "l1=[1,2,3,4,5,7,7,8]\n",
    "mean=sum(l1)/len(l1)  #mean calculation\n",
    "print(\"Mean =\",mean)\n",
    "\n",
    "# median \n",
    "sorted_list=sorted(l1)\n",
    "n=len(sorted_list)\n",
    "median=(sorted_list[n//2] if n%2!=0 else (sorted_list[n//2-1]+sorted_list[n//2])/2 )\n",
    "print(\"Median=\",median)\n",
    "\n",
    "#mode\n",
    "frequency={}\n",
    "for i in l1:\n",
    "    if i in frequency:\n",
    "        frequency[i]+=1\n",
    "    else:\n",
    "        frequency[i]=1\n",
    "max_count=max(frequency.values())\n",
    "mode = [key for key, value in frequency.items() if value == max_count]\n",
    "\n",
    "if len(mode) == len(numbers):\n",
    "    print( \"No mode found\")\n",
    "else:\n",
    "    print(\"Mode=\",mode)"
   ]
  },
  {
   "cell_type": "markdown",
   "id": "ade0763f-03b6-466a-a5ed-fc4baf3c8809",
   "metadata": {},
   "source": [
    "35. Create a program that generates Pascal's triangle up to a specified number of rows using list \n",
    "comprehension"
   ]
  },
  {
   "cell_type": "code",
   "execution_count": 253,
   "id": "30c610c1-4f0b-476f-aef6-f3abfb56d24f",
   "metadata": {},
   "outputs": [],
   "source": [
    "def PascalTriangle(n):\n",
    "   trow = [1]\n",
    "   y = [0]\n",
    "   for x in range(n):\n",
    "      print('\\t',trow)\n",
    "      trow=[left+right for left,right in zip(trow+y, y+trow)]"
   ]
  },
  {
   "cell_type": "code",
   "execution_count": 256,
   "id": "4c81ee14-cc35-43eb-b9e7-76ac6b8d16b3",
   "metadata": {},
   "outputs": [
    {
     "name": "stdout",
     "output_type": "stream",
     "text": [
      "\t [1]\n",
      "\t [1, 1]\n",
      "\t [1, 2, 1]\n",
      "\t [1, 3, 3, 1]\n",
      "\t [1, 4, 6, 4, 1]\n",
      "\t [1, 5, 10, 10, 5, 1]\n",
      "\t [1, 6, 15, 20, 15, 6, 1]\n",
      "\t [1, 7, 21, 35, 35, 21, 7, 1]\n",
      "\t [1, 8, 28, 56, 70, 56, 28, 8, 1]\n"
     ]
    }
   ],
   "source": [
    "PascalTriangle(9)"
   ]
  },
  {
   "cell_type": "markdown",
   "id": "a2fd45be-c7b3-4c8d-ad95-cdc4d8ce3c95",
   "metadata": {},
   "source": [
    " 36. Develop a program that calculates the sum of the digits of a factorial of numbers from 1 to 5 using list \n",
    "comprehension."
   ]
  },
  {
   "cell_type": "code",
   "execution_count": 288,
   "id": "f5214880-56fc-4408-8243-8aa08dc2787b",
   "metadata": {},
   "outputs": [
    {
     "name": "stdout",
     "output_type": "stream",
     "text": [
      "Sum of digit: 18\n"
     ]
    }
   ],
   "source": [
    "def factorial(n):\n",
    "    if n==0:\n",
    "        return 1\n",
    "    else:\n",
    "        return n*factorial(n-1)\n",
    "\n",
    "sum_of_digits=sum([int(j) for i in range(1,6) for j in str(factorial(i))])\n",
    "print(\"Sum of digit:\",sum_of_digits)"
   ]
  },
  {
   "cell_type": "markdown",
   "id": "1e1e8a61-9be3-4a56-9027-a993bfce784e",
   "metadata": {},
   "source": [
    "37. Write a program that finds the longest word in a sentence using list comprehension."
   ]
  },
  {
   "cell_type": "code",
   "execution_count": 300,
   "id": "ef68782b-81b6-4a54-878c-27a1f7d04549",
   "metadata": {},
   "outputs": [
    {
     "name": "stdout",
     "output_type": "stream",
     "text": [
      "('longest word with length', 9, 'is', 'asignment')\n"
     ]
    }
   ],
   "source": [
    "str1=\"i am going to finish loop asignment today itself\"\n",
    "l2=str1.split()\n",
    "\n",
    "longest_word=max([(\"longest word with length\",len(i),\"is\",i) for i in l2])\n",
    "print(longest_word)"
   ]
  },
  {
   "cell_type": "markdown",
   "id": "b717ed59-92e5-41d9-ad02-b4d15ce4cf20",
   "metadata": {},
   "source": [
    "38. Create a program that filters a list of strings to include only those with more than three vowels using list \n",
    "comprehension."
   ]
  },
  {
   "cell_type": "code",
   "execution_count": 325,
   "id": "a0d95f80-1159-4dc5-bca5-d3ad7281473d",
   "metadata": {},
   "outputs": [
    {
     "name": "stdout",
     "output_type": "stream",
     "text": [
      "The word with more than 3 vowels: ['encouraged']\n"
     ]
    }
   ],
   "source": [
    "l3=['the','teacher','encouraged']\n",
    "vowel=\"aeiouAEIOU\"\n",
    "result=[word for word in l3 if sum(1 for char in word if char in vowel )>3]\n",
    "if result:\n",
    "    print(\"The word with more than 3 vowels:\",result)\n",
    "else:\n",
    "    print(\"There is no word with more than 3 vowels\")"
   ]
  },
  {
   "cell_type": "markdown",
   "id": "fb2a4c00-afef-4d7d-ba33-a07dd3e2cda3",
   "metadata": {},
   "source": [
    "39. Develop a program that calculates the sum of the digits of numbers from 1 to 1000 using list \n",
    "comprehension."
   ]
  },
  {
   "cell_type": "code",
   "execution_count": 348,
   "id": "0ec103aa-1acc-4e96-aaac-354c34ac7ccf",
   "metadata": {},
   "outputs": [],
   "source": [
    "numbers=list(range(1,1001))\n",
    "sumof=sum([int(i) for i in str(numbers) if i.isdigit()])\n"
   ]
  },
  {
   "cell_type": "code",
   "execution_count": 346,
   "id": "addbe439-f192-4971-b8ea-716c71acefd2",
   "metadata": {},
   "outputs": [
    {
     "name": "stdout",
     "output_type": "stream",
     "text": [
      "sum of digit  is: 13501\n"
     ]
    }
   ],
   "source": [
    "print(\"sum of digit  is:\",sumof)"
   ]
  },
  {
   "cell_type": "markdown",
   "id": "47b5e7e9-76bd-47a2-9358-5fd1d8069f09",
   "metadata": {},
   "source": [
    "40. Write a program that generates a list of prime palindromic numbers using list comprehension"
   ]
  },
  {
   "cell_type": "code",
   "execution_count": 363,
   "id": "7aa3b45a-fda0-417c-aac9-b2dcced5010e",
   "metadata": {},
   "outputs": [],
   "source": [
    "def palindromic_prime(n):\n",
    "    list1=[]\n",
    "    list2=list(range(2,n+1))\n",
    "    prime=[]\n",
    "    for i in range(2,n+1):\n",
    "        for j in range(2,n+1):\n",
    "            if j<i and i%j==0:\n",
    "                list1.append(i)\n",
    "    for i in list2:\n",
    "        if i not in list1:\n",
    "            prime.append(i)\n",
    "    print(\"Palindromic Prime Numbers:\", [i for i in prime if str(i)==str(i)[::-1]])"
   ]
  },
  {
   "cell_type": "code",
   "execution_count": 364,
   "id": "e92f5387-d330-40fb-833e-a43f5ef8cc6c",
   "metadata": {},
   "outputs": [
    {
     "name": "stdout",
     "output_type": "stream",
     "text": [
      "Palindromic Prime Numbers: [2, 3, 5, 7, 11, 101, 131, 151, 181, 191, 313, 353, 373, 383, 727, 757, 787, 797, 919, 929]\n"
     ]
    }
   ],
   "source": [
    "palindromic_prime(1000)"
   ]
  }
 ],
 "metadata": {
  "kernelspec": {
   "display_name": "Python 3 (ipykernel)",
   "language": "python",
   "name": "python3"
  },
  "language_info": {
   "codemirror_mode": {
    "name": "ipython",
    "version": 3
   },
   "file_extension": ".py",
   "mimetype": "text/x-python",
   "name": "python",
   "nbconvert_exporter": "python",
   "pygments_lexer": "ipython3",
   "version": "3.12.3"
  }
 },
 "nbformat": 4,
 "nbformat_minor": 5
}
